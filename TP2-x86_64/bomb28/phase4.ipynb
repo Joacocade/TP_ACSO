{
 "cells": [
  {
   "cell_type": "code",
   "execution_count": 4,
   "id": "53f30e67",
   "metadata": {},
   "outputs": [
    {
     "name": "stdout",
     "output_type": "stream",
     "text": [
      "{'e': 0, 'g': 1, 'm': 2, 'c': 3, 'f': 4, 'a': 5, 'i': 6, 'j': 7, 'o': 8, 'p': 9, 'n': 10, 'h': 11, 'd': 12, 'b': 13, 'k': 14, 'l': 15}\n",
      "[0, 2, 13, 8, 15, 0]\n"
     ]
    }
   ],
   "source": [
    "arr = [0x65, 0x67, 0x6d, 0x63, 0x66, 0x61, 0x69, 0x6a,\n",
    "       0x6f, 0x70, 0x6e, 0x68, 0x64, 0x62, 0x6b, 0x6c]\n",
    "\n",
    "inv_arr = {idx: chr(letra_ascii) for idx, letra_ascii in enumerate(arr)} # {indice: letra}\n",
    "arr = {chr(letra_ascii): idx for idx, letra_ascii in enumerate(arr)}     # {letra: indice}\n",
    "\n",
    "print(arr)\n",
    "\n",
    "input_str = 'embole'\n",
    "indices = [arr[c] for c in input_str]\n",
    "print(indices)"
   ]
  },
  {
   "cell_type": "code",
   "execution_count": 5,
   "id": "c05ac681",
   "metadata": {},
   "outputs": [
    {
     "name": "stdout",
     "output_type": "stream",
     "text": [
      " \"-(/ \n",
      "02=8?0\n",
      "@BMHO@\n",
      "PR]X_P\n",
      "`bmho`\n"
     ]
    }
   ],
   "source": [
    "def candidates_for_index(i):\n",
    "    return [chr(x) for x in range(32, 127) if (x & 0xF) == i]\n",
    "\n",
    "# Hay 5 soluciones posibles\n",
    "soluciones = []\n",
    "for j in range(5):\n",
    "\tsolucion = ''.join([candidates_for_index(i)[j] for i in indices])\n",
    "\tprint(solucion)\n",
    "\tsoluciones.append(solucion)"
   ]
  },
  {
   "cell_type": "code",
   "execution_count": 6,
   "id": "74ecac30",
   "metadata": {},
   "outputs": [
    {
     "name": "stdout",
     "output_type": "stream",
     "text": [
      "embole\n",
      "embole\n",
      "embole\n",
      "embole\n",
      "embole\n"
     ]
    }
   ],
   "source": [
    "for solucion in soluciones:\n",
    "\tfor c in solucion:\n",
    "\t\treduced_char = ord(c) & 0xF\n",
    "\t\tprint(inv_arr[reduced_char], end='')\n",
    "\tprint()\n"
   ]
  }
 ],
 "metadata": {
  "kernelspec": {
   "display_name": "Python 3",
   "language": "python",
   "name": "python3"
  },
  "language_info": {
   "codemirror_mode": {
    "name": "ipython",
    "version": 3
   },
   "file_extension": ".py",
   "mimetype": "text/x-python",
   "name": "python",
   "nbconvert_exporter": "python",
   "pygments_lexer": "ipython3",
   "version": "3.8.10"
  }
 },
 "nbformat": 4,
 "nbformat_minor": 5
}
